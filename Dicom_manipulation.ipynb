{
 "cells": [
  {
   "cell_type": "markdown",
   "metadata": {},
   "source": [
    "Manipulation of DICOM files\n",
    "=======================\n",
    "First we need to import some libraries,  \n",
    "\n",
    "%matplotlib inline ensures that our images are displayed in the notebook."
   ]
  },
  {
   "cell_type": "code",
   "execution_count": null,
   "metadata": {},
   "outputs": [],
   "source": [
    "%matplotlib inline\n",
    "import matplotlib.pyplot as plt\n",
    "import pydicom\n",
    "import os\n",
    "import shutil \n",
    "import time\n",
    "import numpy as np"
   ]
  },
  {
   "cell_type": "markdown",
   "metadata": {},
   "source": [
    "This function generates a new unique UID for our new image"
   ]
  },
  {
   "cell_type": "code",
   "execution_count": null,
   "metadata": {},
   "outputs": [],
   "source": [
    "def generate_new_UID():\n",
    "    UID_prefix = \"1.2.826.0.1.3680043.8.707\" # change this if your not me!\n",
    "    currentTime = (str(time.time()))\n",
    "    time1, time2 = currentTime.split(\".\")\n",
    "    UID = UID_prefix +\".\"+ time1 + \".1\"+time2  # need to include the .1 to ensure UID element cannot start with 0\n",
    "    time.sleep(2) # wait 1 second to ensure ech UID is different\n",
    "    return UID\n"
   ]
  },
  {
   "cell_type": "markdown",
   "metadata": {},
   "source": [
    "The next two functions perform a Poisson resampling of the image data.  The first resamples each individual pixel.  This was the way I did it in my python script that I wrote for the MSc project:"
   ]
  },
  {
   "cell_type": "code",
   "execution_count": null,
   "metadata": {},
   "outputs": [],
   "source": [
    "def half_time_values(oldImage):\n",
    "    newImage = np.zeros_like(oldImage)\n",
    "    for i in range(0, oldImage.shape[0]):\n",
    "        for j in range(0, oldImage.shape[1]):\n",
    "            origValue = oldImage[i,j]\n",
    "            newValue=(origValue/2)\n",
    "            Value = np.random.poisson(newValue)\n",
    "            newImage[i,j] = Value    # write the value to newImage\n",
    "\n",
    "        return newImage"
   ]
  },
  {
   "cell_type": "markdown",
   "metadata": {},
   "source": [
    "Some time later I realised that you could perform the resampling on the complete array (which should be much faster)"
   ]
  },
  {
   "cell_type": "code",
   "execution_count": null,
   "metadata": {},
   "outputs": [],
   "source": [
    "def half_time_array(oldImage):\n",
    "    newImage=(oldImage/2)\n",
    "    newImage = np.random.poisson(newImage)\n",
    "    return newImage"
   ]
  },
  {
   "cell_type": "markdown",
   "metadata": {},
   "source": [
    "First we need to import our dataset using the dicom library"
   ]
  },
  {
   "cell_type": "code",
   "execution_count": null,
   "metadata": {},
   "outputs": [],
   "source": [
    "ds = pydicom.read_file(\"testobject.dcm\")"
   ]
  },
  {
   "cell_type": "markdown",
   "metadata": {},
   "source": [
    "We can then display this using the matplotlib function _imshow_ on the pixel_array"
   ]
  },
  {
   "cell_type": "code",
   "execution_count": null,
   "metadata": {},
   "outputs": [],
   "source": [
    "image1 = plt.imshow(ds.pixel_array, cmap='bone')\n",
    "image1.axes.xaxis.set_visible(False)\n",
    "image1.axes.yaxis.set_visible(False);"
   ]
  },
  {
   "cell_type": "markdown",
   "metadata": {},
   "source": [
    "max() gives us the maximum pixel value for this image:"
   ]
  },
  {
   "cell_type": "code",
   "execution_count": null,
   "metadata": {},
   "outputs": [],
   "source": [
    "ds.pixel_array.max()"
   ]
  },
  {
   "cell_type": "markdown",
   "metadata": {},
   "source": [
    "the ipython %timeit command allows use to time the execution of each of our poisson resamplaing routines:"
   ]
  },
  {
   "cell_type": "code",
   "execution_count": null,
   "metadata": {},
   "outputs": [],
   "source": [
    "%timeit newImage = half_time_values(ds.pixel_array)\n",
    "%timeit newImage2 = half_time_array(ds.pixel_array)"
   ]
  },
  {
   "cell_type": "markdown",
   "metadata": {},
   "source": [
    "Doing the resampling on the entire array is _much faster_. We can then create a resampled copy of our original image"
   ]
  },
  {
   "cell_type": "code",
   "execution_count": null,
   "metadata": {},
   "outputs": [],
   "source": [
    "newImage2 = half_time_array(ds.pixel_array)\n",
    "image2 = plt.imshow(newImage2, cmap='bone')"
   ]
  },
  {
   "cell_type": "code",
   "execution_count": null,
   "metadata": {},
   "outputs": [],
   "source": [
    "newImage2.max()"
   ]
  },
  {
   "cell_type": "markdown",
   "metadata": {},
   "source": [
    "The maximum value in our image is now approximately half the value of the original as expected"
   ]
  },
  {
   "cell_type": "code",
   "execution_count": null,
   "metadata": {},
   "outputs": [],
   "source": [
    "newImage2.min()"
   ]
  },
  {
   "cell_type": "code",
   "execution_count": null,
   "metadata": {},
   "outputs": [],
   "source": []
  }
 ],
 "metadata": {
  "kernelspec": {
   "display_name": "Python 3",
   "language": "python",
   "name": "python3"
  },
  "language_info": {
   "codemirror_mode": {
    "name": "ipython",
    "version": 3
   },
   "file_extension": ".py",
   "mimetype": "text/x-python",
   "name": "python",
   "nbconvert_exporter": "python",
   "pygments_lexer": "ipython3",
   "version": "3.7.4"
  }
 },
 "nbformat": 4,
 "nbformat_minor": 1
}
