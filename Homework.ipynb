{
 "cells": [
  {
   "cell_type": "markdown",
   "metadata": {},
   "source": [
    "## Homework"
   ]
  },
  {
   "cell_type": "markdown",
   "metadata": {},
   "source": [
    "Just a couple of problems you might like to have a go at:"
   ]
  },
  {
   "cell_type": "markdown",
   "metadata": {},
   "source": [
    "### 1. Plotting some example data\n",
    "\n",
    "The data folder contains a file called DVH.txt which, perhaps not suprisingly contains part of an exported DVH.\n",
    "\n",
    "Try importing into a pandas dataframe and plotting a curve using matplotlib.\n",
    "\n",
    "Remember to import the required libraries first.\n",
    "\n",
    "Before opening a file it's a good idea to examine the top of it to see if there are any headers before the data.\n",
    "\n",
    "You can use the shell command head (!head 15 _name_of_file_)_ to print the first 15 lines. \n",
    "\n",
    "The pandas _read_table_ command will take an arguement _skiprows=n_ to ignore the first n lines."
   ]
  },
  {
   "cell_type": "code",
   "execution_count": null,
   "metadata": {},
   "outputs": [],
   "source": [
    "# import the required libraries first\n",
    "\n",
    "import pandas as pd"
   ]
  },
  {
   "cell_type": "markdown",
   "metadata": {},
   "source": [
    "Pressing \"enter\" at the end of a line of code, creates a new line _in the same cell_\n",
    "\n",
    "Pressing \"shift\"-\"enter\" runs the code in that cell"
   ]
  },
  {
   "cell_type": "code",
   "execution_count": null,
   "metadata": {},
   "outputs": [],
   "source": []
  },
  {
   "cell_type": "markdown",
   "metadata": {},
   "source": [
    "If you want to see all the functions starting _read_ within pandas type \"pd.read\" and then press tab to see all the possible completions"
   ]
  },
  {
   "cell_type": "code",
   "execution_count": null,
   "metadata": {},
   "outputs": [],
   "source": [
    "pd.read"
   ]
  },
  {
   "cell_type": "markdown",
   "metadata": {},
   "source": [
    "To get help on a particular function add a question mark to the end of the name (eg pd.read_excel?)"
   ]
  },
  {
   "cell_type": "code",
   "execution_count": null,
   "metadata": {},
   "outputs": [],
   "source": []
  },
  {
   "cell_type": "markdown",
   "metadata": {},
   "source": [
    "## 2. Extracting data from a Dicom file\n",
    "\n",
    "You might like to look at the example notebook \"Dicom_manipulation\" and at the [pydicom documentation](https://pydicom.github.io/pydicom/stable/) when trying this\n",
    "\n",
    "The data directory also contains a dicom file called \"testobject.dcm\".  \n",
    "\n",
    "Load the file into a pydicom dataset"
   ]
  },
  {
   "cell_type": "code",
   "execution_count": null,
   "metadata": {},
   "outputs": [],
   "source": []
  },
  {
   "cell_type": "markdown",
   "metadata": {},
   "source": [
    "Read the patients name and ID number"
   ]
  },
  {
   "cell_type": "code",
   "execution_count": null,
   "metadata": {},
   "outputs": [],
   "source": []
  },
  {
   "cell_type": "markdown",
   "metadata": {},
   "source": [
    "Change the patients ID number to \"12345\" and save the edited Dicom file back to \"Answer.dcm\""
   ]
  },
  {
   "cell_type": "code",
   "execution_count": null,
   "metadata": {},
   "outputs": [],
   "source": []
  }
 ],
 "metadata": {
  "kernelspec": {
   "display_name": "Python 3",
   "language": "python",
   "name": "python3"
  },
  "language_info": {
   "codemirror_mode": {
    "name": "ipython",
    "version": 3
   },
   "file_extension": ".py",
   "mimetype": "text/x-python",
   "name": "python",
   "nbconvert_exporter": "python",
   "pygments_lexer": "ipython3",
   "version": "3.7.4"
  }
 },
 "nbformat": 4,
 "nbformat_minor": 2
}
